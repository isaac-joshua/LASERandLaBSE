{
  "cells": [
    {
      "cell_type": "code",
      "execution_count": 1,
      "metadata": {
        "colab": {
          "base_uri": "https://localhost:8080/"
        },
        "id": "Zh0iBV8kWCWl",
        "outputId": "f0da40c4-03e7-4899-fbb6-328ee7c38827"
      },
      "outputs": [
        {
          "name": "stdout",
          "output_type": "stream",
          "text": [
            "Looking in indexes: https://test.pypi.org/simple/\n",
            "Requirement already satisfied: lang2vec in c:\\users\\johnr\\anaconda3\\envs\\cenv\\lib\\site-packages (1.1.6)\n",
            "Note: you may need to restart the kernel to use updated packages.\n"
          ]
        }
      ],
      "source": [
        "%pip install --index-url https://test.pypi.org/simple/ --no-deps lang2vec"
      ]
    },
    {
      "cell_type": "markdown",
      "metadata": {
        "id": "fQAMDKhGGA_N"
      },
      "source": [
        "# lang2vec"
      ]
    },
    {
      "cell_type": "code",
      "execution_count": 2,
      "metadata": {
        "id": "HWvI2GLhUU4l"
      },
      "outputs": [],
      "source": [
        "import lang2vec.lang2vec as l2v"
      ]
    },
    {
      "cell_type": "markdown",
      "metadata": {
        "id": "w7SVwzUyJEHL"
      },
      "source": [
        "#### lang2vec lets you compare different language attributes between languages. There are more examples in the README [here](https://github.com/antonisa/lang2vec?tab=readme-ov-file)"
      ]
    },
    {
      "cell_type": "markdown",
      "metadata": {
        "id": "YinuTHSJ_HzE"
      },
      "source": [
        "#### You can check whether a specific language is supported in lang2vec using its 3-letter ISO code:"
      ]
    },
    {
      "cell_type": "code",
      "execution_count": 3,
      "metadata": {
        "colab": {
          "base_uri": "https://localhost:8080/"
        },
        "id": "QTK4Lhv2Gi3B",
        "outputId": "b3931295-5b3b-4e33-cdcd-8b667cb483c1"
      },
      "outputs": [
        {
          "data": {
            "text/plain": [
              "True"
            ]
          },
          "execution_count": 3,
          "metadata": {},
          "output_type": "execute_result"
        }
      ],
      "source": [
        "'eng' in l2v.LANGUAGES"
      ]
    },
    {
      "cell_type": "markdown",
      "metadata": {
        "id": "INT6oL5cGv-9"
      },
      "source": [
        "# Vectors"
      ]
    },
    {
      "cell_type": "markdown",
      "metadata": {
        "id": "56ZFh7KbGzOy"
      },
      "source": [
        "#### Languages in lang2vec are represented by a vector, representing different linguistic features of that language."
      ]
    },
    {
      "cell_type": "markdown",
      "metadata": {
        "id": "3q6b0hAXHRhK"
      },
      "source": [
        "You can learn more about these features [here](https://arxiv.org/pdf/1707.09569)"
      ]
    },
    {
      "cell_type": "markdown",
      "metadata": {
        "id": "HaFlpR25IMrQ"
      },
      "source": [
        "The cell below gathers the \"geographic\" vectors for English, French, German, and Spanish, respectively. I then display the first five geographic vector features for German."
      ]
    },
    {
      "cell_type": "code",
      "execution_count": 4,
      "metadata": {
        "colab": {
          "base_uri": "https://localhost:8080/"
        },
        "id": "5tlLpd9eG8Ob",
        "outputId": "63efec32-46a9-4aaa-891a-ed4b7710ec45"
      },
      "outputs": [
        {
          "data": {
            "text/plain": [
              "[0.7378000020980835,\n",
              " 0.7811999917030334,\n",
              " 0.7906000018119812,\n",
              " 0.7009999752044678,\n",
              " 0.8457000255584717]"
            ]
          },
          "execution_count": 4,
          "metadata": {},
          "output_type": "execute_result"
        }
      ],
      "source": [
        "geographic_features = l2v.get_features([\"eng\", \"fra\", \"deu\", \"spa\"], \"geo\")\n",
        "geographic_features[\"deu\"][:5]"
      ]
    },
    {
      "cell_type": "markdown",
      "metadata": {
        "id": "F1y7qIidKqXm"
      },
      "source": [
        "#### Some of these vectors, such as the syntax (word order) vector, are one-hot vectors"
      ]
    },
    {
      "cell_type": "code",
      "execution_count": 5,
      "metadata": {
        "colab": {
          "base_uri": "https://localhost:8080/"
        },
        "id": "760ZTUx_Kw_v",
        "outputId": "b388ea09-4047-4599-e3a5-361790d45ff3"
      },
      "outputs": [
        {
          "data": {
            "text/plain": [
              "[1.0, 0.0, 0.0, 0.0, 0.0]"
            ]
          },
          "execution_count": 5,
          "metadata": {},
          "output_type": "execute_result"
        }
      ],
      "source": [
        "syntactic_features = l2v.get_features([\"eng\", \"fra\", \"deu\", \"spa\"], \"syntax_average\")\n",
        "syntactic_features[\"eng\"][:5]"
      ]
    },
    {
      "cell_type": "markdown",
      "metadata": {
        "id": "7KUF21nhFmgt"
      },
      "source": [
        "# Syntax"
      ]
    },
    {
      "cell_type": "markdown",
      "metadata": {
        "id": "YeHa6FxmDWRJ"
      },
      "source": [
        "#### Syntax is the word order of a language. You can measure syntactic distance between two languages (how different their word order is) with the function below. This function takes the cosine distance between the two languages' syntax vectors. I turn the distance into similarity by calculating its complement.\n"
      ]
    },
    {
      "cell_type": "code",
      "execution_count": 6,
      "metadata": {
        "id": "ZFQuLq4nB0q_"
      },
      "outputs": [],
      "source": [
        "def get_syntactic_similarity(lang1, lang2):\n",
        "  similarity = (1 - l2v.distance('syntactic', lang1, lang2)) * 100\n",
        "  return int(similarity)"
      ]
    },
    {
      "cell_type": "code",
      "execution_count": 7,
      "metadata": {
        "colab": {
          "base_uri": "https://localhost:8080/"
        },
        "id": "ZfLXgjM1ApuW",
        "outputId": "31dd7bc6-006b-40db-ce3f-efc7487c1838"
      },
      "outputs": [
        {
          "name": "stdout",
          "output_type": "stream",
          "text": [
            "The syntactic similarity between English and Dutch is 51%\n",
            "The syntactic similarity between English and Spanish is 60%\n",
            "The syntactic similarity between English and Hindi is 41%\n",
            "The syntactic similarity between English and Japanese is 34%\n",
            "The syntactic similarity between English and Arabic is 43%\n",
            "The syntactic similarity between English and Yupik is 21%\n",
            "The syntactic similarity between English and Mandarin is 44%\n"
          ]
        }
      ],
      "source": [
        "print(f\"The syntactic similarity between English and Dutch is {get_syntactic_similarity('eng', 'nld')}%\")\n",
        "print(f\"The syntactic similarity between English and Spanish is {get_syntactic_similarity('eng', 'spa')}%\")\n",
        "print(f\"The syntactic similarity between English and Hindi is {get_syntactic_similarity('eng', 'hin')}%\")\n",
        "print(f\"The syntactic similarity between English and Japanese is {get_syntactic_similarity('eng', 'jpn')}%\")\n",
        "print(f\"The syntactic similarity between English and Arabic is {get_syntactic_similarity('eng', 'ara')}%\")\n",
        "print(f\"The syntactic similarity between English and Yupik is {get_syntactic_similarity('eng', 'esu')}%\")\n",
        "print(f\"The syntactic similarity between English and Mandarin is {get_syntactic_similarity('eng', 'cmn')}%\")"
      ]
    },
    {
      "cell_type": "markdown",
      "metadata": {
        "id": "VNRX9zYmMDpF"
      },
      "source": [
        "# Phonetics"
      ]
    },
    {
      "cell_type": "markdown",
      "metadata": {
        "id": "NeepBsPkLV1y"
      },
      "source": [
        "#### Here, inventory refers to the phonetic inventory (inventory of speech sounds) of a language."
      ]
    },
    {
      "cell_type": "code",
      "execution_count": null,
      "metadata": {
        "id": "S1gBUA60LkAu"
      },
      "outputs": [],
      "source": [
        "def get_inventory_similarity(lang1, lang2):\n",
        "  similarity = (1 - l2v.distance('inventory', lang1, lang2)) * 100\n",
        "  return int(similarity)"
      ]
    },
    {
      "cell_type": "code",
      "execution_count": null,
      "metadata": {
        "colab": {
          "base_uri": "https://localhost:8080/"
        },
        "id": "HUgr2VW3LlqT",
        "outputId": "6be462d3-3316-471f-e513-c79e809211f0"
      },
      "outputs": [
        {
          "name": "stdout",
          "output_type": "stream",
          "text": [
            "The phonetic similarity between English and Dutch is 51%\n",
            "The phonetic similarity between English and Spanish is 45%\n",
            "The phonetic similarity between English and Hindi is 53%\n",
            "The phonetic similarity between English and Japanese is 45%\n",
            "The phonetic similarity between English and Arabic is 40%\n",
            "The phonetic similarity between English and Yupik is 40%\n",
            "The phonetic similarity between English and Mandarin is 40%\n"
          ]
        }
      ],
      "source": [
        "print(f\"The phonetic similarity between English and Dutch is {get_inventory_similarity('eng', 'nld')}%\")\n",
        "print(f\"The phonetic similarity between English and Spanish is {get_inventory_similarity('eng', 'spa')}%\")\n",
        "print(f\"The phonetic similarity between English and Hindi is {get_inventory_similarity('eng', 'hin')}%\")\n",
        "print(f\"The phonetic similarity between English and Japanese is {get_inventory_similarity('eng', 'jpn')}%\")\n",
        "print(f\"The phonetic similarity between English and Arabic is {get_inventory_similarity('eng', 'ara')}%\")\n",
        "print(f\"The phonetic similarity between English and Yupik is {get_inventory_similarity('eng', 'esu')}%\")\n",
        "print(f\"The phonetic similarity between English and Mandarin is {get_inventory_similarity('eng', 'cmn')}%\")"
      ]
    },
    {
      "cell_type": "markdown",
      "metadata": {
        "id": "A12oxG-yFphs"
      },
      "source": [
        "# Phonology"
      ]
    },
    {
      "cell_type": "markdown",
      "metadata": {
        "id": "RlMps6HVEqYN"
      },
      "source": [
        "#### Phonology refers to the patterns of speech sounds in a language."
      ]
    },
    {
      "cell_type": "code",
      "execution_count": null,
      "metadata": {
        "id": "7-DXzb7XE4f4"
      },
      "outputs": [],
      "source": [
        "def get_phonological_similarity(lang1, lang2):\n",
        "  similarity = (1 - l2v.distance('phonological', lang1, lang2)) * 100\n",
        "  return int(similarity)"
      ]
    },
    {
      "cell_type": "code",
      "execution_count": null,
      "metadata": {
        "colab": {
          "base_uri": "https://localhost:8080/"
        },
        "id": "V8z3mYd6FE5i",
        "outputId": "a783170a-967d-40db-db12-9c0c41c1f2e6"
      },
      "outputs": [
        {
          "name": "stdout",
          "output_type": "stream",
          "text": [
            "The phonological similarity between English and Dutch is 43%\n",
            "The phonological similarity between English and Spanish is 65%\n",
            "The phonological similarity between English and Hindi is 65%\n",
            "The phonological similarity between English and Japanese is 49%\n",
            "The phonological similarity between English and Arabic is 43%\n",
            "The phonological similarity between English and Yupik is 13%\n",
            "The phonological similarity between English and Mandarin is 61%\n"
          ]
        }
      ],
      "source": [
        "print(f\"The phonological similarity between English and Dutch is {get_phonological_similarity('eng', 'nld')}%\")\n",
        "print(f\"The phonological similarity between English and Spanish is {get_phonological_similarity('eng', 'spa')}%\")\n",
        "print(f\"The phonological similarity between English and Hindi is {get_phonological_similarity('eng', 'hin')}%\")\n",
        "print(f\"The phonological similarity between English and Japanese is {get_phonological_similarity('eng', 'jpn')}%\")\n",
        "print(f\"The phonological similarity between English and Arabic is {get_phonological_similarity('eng', 'ara')}%\")\n",
        "print(f\"The phonological similarity between English and Yupik is {get_phonological_similarity('eng', 'esu')}%\")\n",
        "print(f\"The phonological similarity between English and Mandarin is {get_phonological_similarity('eng', 'cmn')}%\")"
      ]
    },
    {
      "cell_type": "markdown",
      "metadata": {
        "id": "McwAuvi0Fs66"
      },
      "source": [
        "# Genetic"
      ]
    },
    {
      "cell_type": "markdown",
      "metadata": {
        "id": "aHo900bdGPbD"
      },
      "source": [
        "#### You can also calculate (phylo)genetic distance/similarity between two languages. That is, how far or close two languages are on the language family tree. This is similar to genetic similarity between two living organisms in biology.\n",
        "\n",
        "Languages that are extremely far apart round down to zero."
      ]
    },
    {
      "cell_type": "code",
      "execution_count": null,
      "metadata": {
        "id": "4ccPZap-Gw8v"
      },
      "outputs": [],
      "source": [
        "def get_genetic_similarity(lang1, lang2):\n",
        "  similarity = (1 - l2v.distance('genetic', lang1, lang2)) * 100\n",
        "  return int(similarity)"
      ]
    },
    {
      "cell_type": "code",
      "execution_count": null,
      "metadata": {
        "colab": {
          "base_uri": "https://localhost:8080/"
        },
        "id": "yxMLo-4UG0eH",
        "outputId": "a184a3ae-7cd5-4be9-8b44-7fd744addd4a"
      },
      "outputs": [
        {
          "name": "stdout",
          "output_type": "stream",
          "text": [
            "The genetic similarity between English and Dutch is 40%\n",
            "The genetic similarity between English and Spanish is 9%\n",
            "The genetic similarity between English and Hindi is 9%\n",
            "The genetic similarity between English and Japanese is 0%\n",
            "The genetic similarity between English and Arabic is 0%\n",
            "The genetic similarity between English and Yupik is 0%\n",
            "The genetic similarity between English and Mandarin is 0%\n"
          ]
        }
      ],
      "source": [
        "print(f\"The genetic similarity between English and Dutch is {get_genetic_similarity('eng', 'nld')}%\")\n",
        "print(f\"The genetic similarity between English and Spanish is {get_genetic_similarity('eng', 'spa')}%\")\n",
        "print(f\"The genetic similarity between English and Hindi is {get_genetic_similarity('eng', 'hin')}%\")\n",
        "print(f\"The genetic similarity between English and Japanese is {get_genetic_similarity('eng', 'jpn')}%\")\n",
        "print(f\"The genetic similarity between English and Arabic is {get_genetic_similarity('eng', 'ara')}%\")\n",
        "print(f\"The genetic similarity between English and Yupik is {get_genetic_similarity('eng', 'esu')}%\")\n",
        "print(f\"The genetic similarity between English and Mandarin is {get_genetic_similarity('eng', 'cmn')}%\")"
      ]
    },
    {
      "cell_type": "markdown",
      "metadata": {
        "id": "Oc6dRxElId-A"
      },
      "source": [
        "English, Hindi, Urdu, and Nepali are Indo-European languages.\n",
        "\n",
        "Tamil, Telugu, and Malayalam are Dravidian languages."
      ]
    },
    {
      "cell_type": "code",
      "execution_count": null,
      "metadata": {
        "colab": {
          "base_uri": "https://localhost:8080/"
        },
        "id": "KemtkDZrH1Ij",
        "outputId": "b9f6dac0-2e67-4807-93bc-001e79a09716"
      },
      "outputs": [
        {
          "name": "stdout",
          "output_type": "stream",
          "text": [
            "The genetic similarity between English and Hindi is 9%\n",
            "The genetic similarity between Hindi and Urdu is 87%\n",
            "The genetic similarity between Hindi and Nepali is 37%\n",
            "The genetic similarity between Hindi and Tamil is 0%\n",
            "The genetic similarity between Hindi and Malayalam is 0%\n",
            "The genetic similarity between Tamil and Telugu is 25%\n"
          ]
        }
      ],
      "source": [
        "# english and hindi\n",
        "print(f\"The genetic similarity between English and Hindi is {get_genetic_similarity('eng', 'hin')}%\")\n",
        "\n",
        "# hindi and urdu\n",
        "print(f\"The genetic similarity between Hindi and Urdu is {get_genetic_similarity('hin', 'urd')}%\")\n",
        "\n",
        "# hindi and nepali\n",
        "print(f\"The genetic similarity between Hindi and Nepali is {get_genetic_similarity('hin', 'npi')}%\")\n",
        "\n",
        "# hindi and tamil\n",
        "print(f\"The genetic similarity between Hindi and Tamil is {get_genetic_similarity('hin', 'tam')}%\")\n",
        "\n",
        "# hindi and malayalam\n",
        "print(f\"The genetic similarity between Hindi and Malayalam is {get_genetic_similarity('hin', 'mal')}%\")\n",
        "\n",
        "# tamil and telugu\n",
        "print(f\"The genetic similarity between Tamil and Telugu is {get_genetic_similarity('tam', 'tel')}%\")"
      ]
    },
    {
      "cell_type": "markdown",
      "metadata": {
        "id": "Cd17yjR2Fxs9"
      },
      "source": [
        "# Visualization Example"
      ]
    },
    {
      "cell_type": "markdown",
      "metadata": {
        "id": "I8eUofT9Nyw5"
      },
      "source": [
        "#### One visualization you could do is to plot a language's average similarity correlation score between LaBSE and LASER against that language's syntactic (or some other) similarity to English."
      ]
    },
    {
      "cell_type": "code",
      "execution_count": null,
      "metadata": {
        "id": "e3i4gFiBNiLd"
      },
      "outputs": [],
      "source": [
        "import matplotlib.pyplot as plt"
      ]
    },
    {
      "cell_type": "code",
      "execution_count": null,
      "metadata": {
        "id": "qDLG-_pgOVq6"
      },
      "outputs": [],
      "source": [
        "# Here are some made up correlation scores between LaBSE and LASER for different languages (compared to English)\n",
        "example_correlation_scores = [0.9, 0.5, 0.7, 0.3, 0.8, 0.6, 0.4]\n",
        "\n",
        "# And here are the matching languages\n",
        "example_languages = ['nld', 'spa', 'hin', 'jpn', 'ara', 'esu', 'cmn']\n",
        "\n",
        "# Calculate the genetic similarity to English for these languages\n",
        "example_genetic_similarities = [get_syntactic_similarity('eng', lang) for lang in example_languages]"
      ]
    },
    {
      "cell_type": "code",
      "execution_count": null,
      "metadata": {
        "colab": {
          "base_uri": "https://localhost:8080/",
          "height": 564
        },
        "id": "vW0G21x3PD1-",
        "outputId": "5545b3bc-c015-4bf9-dc75-3a4b70b41c90"
      },
      "outputs": [
        {
          "data": {
            "image/png": "[encoded data removed]",
            "text/plain": [
              "<Figure size 1000x600 with 1 Axes>"
            ]
          },
          "metadata": {},
          "output_type": "display_data"
        }
      ],
      "source": [
        "# Plot the correlation scores against the genetic similarities\n",
        "\n",
        "plt.figure(figsize=(10, 6))\n",
        "\n",
        "for i, txt in enumerate(example_languages):\n",
        "    plt.annotate(txt,\n",
        "                 (example_genetic_similarities[i], example_correlation_scores[i]),\n",
        "                 xytext=(5, 5),  # Offset the text slightly\n",
        "                 textcoords='offset points',  # Specify that the offset is in points\n",
        "                 ha='left',  # Horizontal alignment\n",
        "                 va='bottom')  # Vertical alignment\n",
        "\n",
        "plt.scatter(example_genetic_similarities, example_correlation_scores)\n",
        "\n",
        "plt.xlabel('GENETIC SIMILARITY TO ENGLISH')\n",
        "\n",
        "plt.ylabel('SIMILARITY CORRELATION SCORE')\n",
        "\n",
        "plt.title('Genetic Similarity vs Correlation Score')\n",
        "\n",
        "plt.show()\n"
      ]
    },
    {
      "cell_type": "code",
      "execution_count": 5,
      "metadata": {},
      "outputs": [
        {
          "name": "stdout",
          "output_type": "stream",
          "text": [
            "Sentence 1 Tokens: ['Jézi', 'Kwi', 'sé', 'désandan', 'Wa', 'David', 'épi', 'désandan', 'Abrahanm.', 'Mi', 'non', 'jennenwasyonʼy:']\n",
            "Sentence 2 Tokens: ['Ndarm', 'Jisas', 'Kraisrhu', 'nkifraroh', 'yufayem.', 'Jisasr', 'Defit', 'frikef', 'yuhat', 'niamor,', 'tfit', 'Defitrn', 'Abrahamrhu', 'frika', 'yuhat', 'niamor.']\n",
            "Levenshtein distance: 90\n"
          ]
        }
      ],
      "source": [
        "\n",
        "sentence1 = \"Jézi Kwi sé désandan Wa David épi désandan Abrahanm. Mi non jennenwasyonʼy:\"\n",
        "sentence2 = \"Ndarm Jisas Kraisrhu nkifraroh yufayem. Jisasr Defit frikef yuhat niamor, tfit Defitrn Abrahamrhu frika yuhat niamor.\"\n",
        "\n",
        "# Tokenize sentences into words\n",
        "word_list1 = sentence1.split()\n",
        "word_list2 = sentence2.split()\n",
        "\n",
        "print(\"Sentence 1 Tokens:\", word_list1)\n",
        "print(\"Sentence 2 Tokens:\", word_list2)\n",
        "\n",
        "from lingpy import edit_dist\n",
        "\n",
        "# Calculate Levenshtein distance between the two tokenized sentences\n",
        "distance = edit_dist(' '.join(word_list1), ' '.join(word_list2))\n",
        "print(f\"Levenshtein distance: {distance}\")\n",
        "\n"
      ]
    },
    {
      "cell_type": "code",
      "execution_count": 7,
      "metadata": {},
      "outputs": [
        {
          "ename": "ImportError",
          "evalue": "cannot import name 'psa' from 'lingpy.sequence.sound_classes' (c:\\Users\\johnr\\anaconda3\\envs\\cenv\\lib\\site-packages\\lingpy\\sequence\\sound_classes.py)",
          "output_type": "error",
          "traceback": [
            "\u001b[1;31m---------------------------------------------------------------------------\u001b[0m",
            "\u001b[1;31mImportError\u001b[0m                               Traceback (most recent call last)",
            "Cell \u001b[1;32mIn[7], line 1\u001b[0m\n\u001b[1;32m----> 1\u001b[0m \u001b[38;5;28;01mfrom\u001b[39;00m \u001b[38;5;21;01mlingpy\u001b[39;00m\u001b[38;5;21;01m.\u001b[39;00m\u001b[38;5;21;01msequence\u001b[39;00m\u001b[38;5;21;01m.\u001b[39;00m\u001b[38;5;21;01msound_classes\u001b[39;00m \u001b[38;5;28;01mimport\u001b[39;00m psa\n\u001b[0;32m      3\u001b[0m \u001b[38;5;66;03m# Using the tokenized sentences for phonetic similarity analysis\u001b[39;00m\n\u001b[0;32m      4\u001b[0m phonetic_similarity \u001b[38;5;241m=\u001b[39m psa(\u001b[38;5;124m'\u001b[39m\u001b[38;5;124m \u001b[39m\u001b[38;5;124m'\u001b[39m\u001b[38;5;241m.\u001b[39mjoin(sentence1), \u001b[38;5;124m'\u001b[39m\u001b[38;5;124m \u001b[39m\u001b[38;5;124m'\u001b[39m\u001b[38;5;241m.\u001b[39mjoin(sentence2))\n",
            "\u001b[1;31mImportError\u001b[0m: cannot import name 'psa' from 'lingpy.sequence.sound_classes' (c:\\Users\\johnr\\anaconda3\\envs\\cenv\\lib\\site-packages\\lingpy\\sequence\\sound_classes.py)"
          ]
        }
      ],
      "source": [
        "from lingpy.sequence.sound_classes import psa\n",
        "\n",
        "# Using the tokenized sentences for phonetic similarity analysis\n",
        "phonetic_similarity = psa(' '.join(sentence1), ' '.join(sentence2))\n",
        "\n",
        "print(f\"Phonetic similarity score: {phonetic_similarity}\")\n"
      ]
    },
    {
      "cell_type": "code",
      "execution_count": 10,
      "metadata": {},
      "outputs": [
        {
          "name": "stderr",
          "output_type": "stream",
          "text": [
            "2024-10-07 18:52:42,341 [WARNING] There are empty segments in the consensus.\n",
            "2024-10-07 18:52:42,341 [INFO] \n",
            "\t0 0 3 1 0 0 7 1 0 0 4 6\n",
            "\t0 0 0 4 7 0 0 3 7 4 1 0 0 3 7 4\n",
            "2024-10-07 18:52:42,341 [WARNING] There are empty segments in the consensus.\n",
            "2024-10-07 18:52:42,357 [INFO] \n",
            "\t[0, 0, 2, 2, 4, 1, 0, 2, 7, 2, 1, 0, 0, 2, 4, 4, 3]\n"
          ]
        },
        {
          "name": "stdout",
          "output_type": "stream",
          "text": [
            "Jézi Kwi sé - - désandan Wa David épi - désandan - - Abrahanm. Mi non jennenwasyonʼy:\n",
            "Ndarm Jisas Kraisrhu nkifraroh yufayem. Jisasr Defit frikef yuhat niamor, tfit Defitrn Abrahamrhu frika yuhat niamor. -\n"
          ]
        }
      ],
      "source": [
        "from lingpy import Multiple\n",
        "\n",
        "# Tokenized sentences (char_list1 and char_list2 are lists of characters)\n",
        "char_list1 = ['Jézi', 'Kwi', 'sé', 'désandan', 'Wa', 'David', 'épi', 'désandan', 'Abrahanm.', 'Mi', 'non', 'jennenwasyonʼy:']\n",
        "char_list2 = ['Ndarm', 'Jisas', 'Kraisrhu', 'nkifraroh', 'yufayem.', 'Jisasr', 'Defit', 'frikef', 'yuhat', 'niamor,', 'tfit', 'Defitrn', 'Abrahamrhu', 'frika', 'yuhat', 'niamor.']\n",
        "\n",
        "# Join the list of words into strings\n",
        "seq1 = ' '.join(char_list1)\n",
        "seq2 = ' '.join(char_list2)\n",
        "\n",
        "# Create the sequences list\n",
        "sequences = [seq1, seq2]\n",
        "\n",
        "# Create a Multiple object for alignment\n",
        "alignment = Multiple(sequences)\n",
        "\n",
        "# Align the sequences using the 'progressive' method\n",
        "alignment.align(method='library')\n",
        "\n",
        "\n",
        "# Print the aligned sequences\n",
        "for seq in alignment.alm_matrix:\n",
        "    print(' '.join(seq))\n"
      ]
    },
    {
      "cell_type": "code",
      "execution_count": null,
      "metadata": {},
      "outputs": [],
      "source": []
    }
  ],
  "metadata": {
    "colab": {
      "provenance": []
    },
    "kernelspec": {
      "display_name": "cenv",
      "language": "python",
      "name": "python3"
    },
    "language_info": {
      "codemirror_mode": {
        "name": "ipython",
        "version": 3
      },
      "file_extension": ".py",
      "mimetype": "text/x-python",
      "name": "python",
      "nbconvert_exporter": "python",
      "pygments_lexer": "ipython3",
      "version": "3.10.14"
    }
  },
  "nbformat": 4,
  "nbformat_minor": 0
}
